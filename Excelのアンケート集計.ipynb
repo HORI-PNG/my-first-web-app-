{
 "cells": [
  {
   "cell_type": "code",
   "execution_count": 1,
   "id": "64f131ca-eeff-455e-b31b-83d992c77b73",
   "metadata": {},
   "outputs": [
    {
     "name": "stdout",
     "output_type": "stream",
     "text": [
      "Index(['タイムスタンプ', '所属類', '講座の内容は理解できましたか？', 'ご意見等あればご記入ください', '講座の難易度はどうでしたか？',\n",
      "       'ご意見等あればご記入ください.1', '講師はどうでしたか？', 'どのような点が良かった または 悪かったか、理由等あればご記入ください',\n",
      "       'GAはどうでしたか？', 'どのような点がよかった または 悪かったか、理由等あればご記入ください',\n",
      "       'グループワークを活用できましたか？', '理由等あればご記入ください',\n",
      "       '講座の中で、自分が新たに身についたと思うスキルを選択してください（複数選択可）',\n",
      "       '理解が難しかったものにチェックを入れてください（複数選択可）', '上の質問に関して、難しかった理由があればご記入ください',\n",
      "       '入学前や今現在、パソコンに関する不安があればご記入ください', 'その他、講座への要望や感想などあればご記入ください'],\n",
      "      dtype='object')\n"
     ]
    }
   ],
   "source": [
    "import pandas as pd\n",
    "\n",
    "# Excelファイルの読み込み\n",
    "df = pd.read_excel('input.xlsx', engine='openpyxl')\n",
    "\n",
    "# 列名の表示\n",
    "print(df.columns)\n"
   ]
  },
  {
   "cell_type": "code",
   "execution_count": 7,
   "id": "14f8ca15-31ac-47a3-a5bc-6f54d6a81897",
   "metadata": {},
   "outputs": [
    {
     "name": "stdout",
     "output_type": "stream",
     "text": [
      "言葉の出現回数が '講師はどうでしたか？.xlsx' に保存されました。\n"
     ]
    }
   ],
   "source": [
    "import pandas as pd\n",
    "\n",
    "# Excelファイルの読み込み\n",
    "#engine=''で、Excelファイルを選ぶためのエンジンを指定\n",
    "df = pd.read_excel('input.xlsx', engine='openpyxl')\n",
    "\n",
    "# N2からN134までのセルを抽出\n",
    "#df.loc[1:133, 'N']は、pandasのlocメソッドを使って特定の範囲のデータを取得する方法\n",
    "data = df.loc[33:132, '講座の内容は理解できましたか？']\n",
    "\n",
    "# 言葉の分割とカウント\n",
    "\"\"\"\n",
    "word_countという辞書を初期化します。\n",
    "各セルの内容を, で分割して、言葉のリストを作成します。\n",
    "各言葉について、既に辞書に存在する場合はそのカウントを増やし、存在しない場合は新しく追加します。\n",
    "\"\"\"\n",
    "word_count = {}\n",
    "for cell in data:\n",
    "    words = cell.split(', ')\n",
    "    for word in words:\n",
    "        if word in word_count:\n",
    "            word_count[word] += 1\n",
    "        else:\n",
    "            word_count[word] = 1\n",
    "\n",
    "# 言葉の出現回数を新しいDataFrameに保存\n",
    "\"\"\"\n",
    "word_count.items()は、辞書のキーと値のペアをリストとして取得します。pd.DataFrameを使って、このリストをDataFrameに変換し、列名を'Word'と'Count'に設定します。\n",
    "\"\"\"\n",
    "word_count_df = pd.DataFrame(list(word_count.items()), columns=['Word', 'Count'])\n",
    "\n",
    "# 新しいExcelファイルに保存\n",
    "word_count_df.to_excel('理解が難しかったものにチェックを入れてください（複数選択可）.xlsx', index=False)\n",
    "\n",
    "print(\"言葉の出現回数が '講師はどうでしたか？.xlsx' に保存されました。\")\n"
   ]
  },
  {
   "cell_type": "code",
   "execution_count": null,
   "id": "b35b1ee9-524f-4712-8633-08aeb271985d",
   "metadata": {},
   "outputs": [],
   "source": [
    "import pandas as pd\n",
    "\n",
    "# Excelファイルの読み込み\n",
    "#engine=''で、Excelファイルを選ぶためのエンジンを指定\n",
    "df = pd.read_excel('input.xlsx', engine='openpyxl')\n",
    "\n",
    "# N2からN134までのセルを抽出\n",
    "#df.loc[1:133, 'N']は、pandasのlocメソッドを使って特定の範囲のデータを取得する方法\n",
    "data = df.loc[1:32, '理解が難しかったものにチェックを入れてください（複数選択可）']\n",
    "\n",
    "# 言葉の分割とカウント\n",
    "\"\"\"\n",
    "word_countという辞書を初期化します。\n",
    "各セルの内容を, で分割して、言葉のリストを作成します。\n",
    "各言葉について、既に辞書に存在する場合はそのカウントを増やし、存在しない場合は新しく追加します。\n",
    "\"\"\"\n",
    "word_count = {}\n",
    "for cell in data:\n",
    "    words = cell.split(', ')\n",
    "    for word in words:\n",
    "        if word in word_count:\n",
    "            word_count[word] += 1\n",
    "        else:\n",
    "            word_count[word] = 1\n",
    "\n",
    "# 言葉の出現回数を新しいDataFrameに保存\n",
    "\"\"\"\n",
    "word_count.items()は、辞書のキーと値のペアをリストとして取得します。pd.DataFrameを使って、このリストをDataFrameに変換し、列名を'Word'と'Count'に設定します。\n",
    "\"\"\"\n",
    "word_count_df = pd.DataFrame(list(word_count.items()), columns=['Word', 'Count'])\n",
    "\n",
    "# 新しいExcelファイルに保存\n",
    "word_count_df.to_excel('word_count_output.xlsx', index=False)\n",
    "\n",
    "print(\"言葉の出現回数が 'word_count_output.xlsx' に保存されました。\")\n"
   ]
  }
 ],
 "metadata": {
  "kernelspec": {
   "display_name": "Python [conda env:base] *",
   "language": "python",
   "name": "conda-base-py"
  },
  "language_info": {
   "codemirror_mode": {
    "name": "ipython",
    "version": 3
   },
   "file_extension": ".py",
   "mimetype": "text/x-python",
   "name": "python",
   "nbconvert_exporter": "python",
   "pygments_lexer": "ipython3",
   "version": "3.12.7"
  }
 },
 "nbformat": 4,
 "nbformat_minor": 5
}
