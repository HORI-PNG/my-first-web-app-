{
 "cells": [
  {
   "cell_type": "code",
   "execution_count": 4,
   "id": "1f1d2bd9-9827-44cd-8772-49e10ecfdd11",
   "metadata": {},
   "outputs": [
    {
     "name": "stdout",
     "output_type": "stream",
     "text": [
      "Collecting PyPDF2\n",
      "  Downloading pypdf2-3.0.1-py3-none-any.whl.metadata (6.8 kB)\n",
      "Downloading pypdf2-3.0.1-py3-none-any.whl (232 kB)\n",
      "Installing collected packages: PyPDF2\n",
      "Successfully installed PyPDF2-3.0.1\n"
     ]
    },
    {
     "name": "stderr",
     "output_type": "stream",
     "text": [
      "WARNING: Ignoring invalid distribution ~atplotlib (C:\\Users\\nn081\\anaconda3\\Lib\\site-packages)\n",
      "WARNING: Ignoring invalid distribution ~atplotlib (C:\\Users\\nn081\\anaconda3\\Lib\\site-packages)\n",
      "WARNING: Ignoring invalid distribution ~atplotlib (C:\\Users\\nn081\\anaconda3\\Lib\\site-packages)\n"
     ]
    }
   ],
   "source": [
    "!pip install PyPDF2"
   ]
  },
  {
   "cell_type": "code",
   "execution_count": 6,
   "id": "34447f61-72ec-4f69-8287-d0075f639515",
   "metadata": {},
   "outputs": [
    {
     "name": "stdout",
     "output_type": "stream",
     "text": [
      "Found existing installation: matplotlib 3.10.1\n",
      "Uninstalling matplotlib-3.10.1:\n",
      "  Successfully uninstalled matplotlib-3.10.1\n",
      "Note: you may need to restart the kernel to use updated packages.\n",
      "Collecting matplotlib\n",
      "  Downloading matplotlib-3.10.3-cp312-cp312-win_amd64.whl.metadata (11 kB)\n",
      "Requirement already satisfied: contourpy>=1.0.1 in c:\\users\\nn081\\anaconda3\\lib\\site-packages (from matplotlib) (1.2.0)\n",
      "Requirement already satisfied: cycler>=0.10 in c:\\users\\nn081\\anaconda3\\lib\\site-packages (from matplotlib) (0.11.0)\n",
      "Requirement already satisfied: fonttools>=4.22.0 in c:\\users\\nn081\\anaconda3\\lib\\site-packages (from matplotlib) (4.51.0)\n",
      "Requirement already satisfied: kiwisolver>=1.3.1 in c:\\users\\nn081\\anaconda3\\lib\\site-packages (from matplotlib) (1.4.4)\n",
      "Requirement already satisfied: numpy>=1.23 in c:\\users\\nn081\\anaconda3\\lib\\site-packages (from matplotlib) (1.26.4)\n",
      "Requirement already satisfied: packaging>=20.0 in c:\\users\\nn081\\anaconda3\\lib\\site-packages (from matplotlib) (24.1)\n",
      "Requirement already satisfied: pillow>=8 in c:\\users\\nn081\\anaconda3\\lib\\site-packages (from matplotlib) (10.4.0)\n",
      "Requirement already satisfied: pyparsing>=2.3.1 in c:\\users\\nn081\\anaconda3\\lib\\site-packages (from matplotlib) (3.1.2)\n",
      "Requirement already satisfied: python-dateutil>=2.7 in c:\\users\\nn081\\anaconda3\\lib\\site-packages (from matplotlib) (2.9.0.post0)\n",
      "Requirement already satisfied: six>=1.5 in c:\\users\\nn081\\anaconda3\\lib\\site-packages (from python-dateutil>=2.7->matplotlib) (1.16.0)\n",
      "Downloading matplotlib-3.10.3-cp312-cp312-win_amd64.whl (8.1 MB)\n",
      "   ---------------------------------------- 0.0/8.1 MB ? eta -:--:--\n",
      "   ---------------------------------------- 0.0/8.1 MB ? eta -:--:--\n",
      "   - -------------------------------------- 0.3/8.1 MB ? eta -:--:--\n",
      "   -- ------------------------------------- 0.5/8.1 MB 1.1 MB/s eta 0:00:07\n",
      "   --- ------------------------------------ 0.8/8.1 MB 1.0 MB/s eta 0:00:07\n",
      "   ----- ---------------------------------- 1.0/8.1 MB 1.1 MB/s eta 0:00:07\n",
      "   ------ --------------------------------- 1.3/8.1 MB 1.1 MB/s eta 0:00:07\n",
      "   ------- -------------------------------- 1.6/8.1 MB 1.1 MB/s eta 0:00:06\n",
      "   --------- ------------------------------ 1.8/8.1 MB 1.1 MB/s eta 0:00:06\n",
      "   ---------- ----------------------------- 2.1/8.1 MB 1.2 MB/s eta 0:00:06\n",
      "   ----------- ---------------------------- 2.4/8.1 MB 1.2 MB/s eta 0:00:05\n",
      "   ------------ --------------------------- 2.6/8.1 MB 1.2 MB/s eta 0:00:05\n",
      "   -------------- ------------------------- 2.9/8.1 MB 1.2 MB/s eta 0:00:05\n",
      "   --------------- ------------------------ 3.1/8.1 MB 1.2 MB/s eta 0:00:05\n",
      "   ---------------- ----------------------- 3.4/8.1 MB 1.2 MB/s eta 0:00:04\n",
      "   ------------------ --------------------- 3.7/8.1 MB 1.2 MB/s eta 0:00:04\n",
      "   ------------------- -------------------- 3.9/8.1 MB 1.2 MB/s eta 0:00:04\n",
      "   ------------------- -------------------- 3.9/8.1 MB 1.2 MB/s eta 0:00:04\n",
      "   -------------------- ------------------- 4.2/8.1 MB 1.2 MB/s eta 0:00:04\n",
      "   ---------------------- ----------------- 4.5/8.1 MB 1.2 MB/s eta 0:00:04\n",
      "   ----------------------- ---------------- 4.7/8.1 MB 1.2 MB/s eta 0:00:03\n",
      "   ------------------------ --------------- 5.0/8.1 MB 1.2 MB/s eta 0:00:03\n",
      "   ------------------------- -------------- 5.2/8.1 MB 1.2 MB/s eta 0:00:03\n",
      "   --------------------------- ------------ 5.5/8.1 MB 1.1 MB/s eta 0:00:03\n",
      "   --------------------------- ------------ 5.5/8.1 MB 1.1 MB/s eta 0:00:03\n",
      "   ---------------------------- ----------- 5.8/8.1 MB 1.1 MB/s eta 0:00:03\n",
      "   ----------------------------- ---------- 6.0/8.1 MB 1.1 MB/s eta 0:00:02\n",
      "   ------------------------------- -------- 6.3/8.1 MB 1.1 MB/s eta 0:00:02\n",
      "   -------------------------------- ------- 6.6/8.1 MB 1.1 MB/s eta 0:00:02\n",
      "   --------------------------------- ------ 6.8/8.1 MB 1.1 MB/s eta 0:00:02\n",
      "   ----------------------------------- ---- 7.1/8.1 MB 1.1 MB/s eta 0:00:01\n",
      "   ------------------------------------ --- 7.3/8.1 MB 1.2 MB/s eta 0:00:01\n",
      "   ------------------------------------- -- 7.6/8.1 MB 1.2 MB/s eta 0:00:01\n",
      "   -------------------------------------- - 7.9/8.1 MB 1.2 MB/s eta 0:00:01\n",
      "   ---------------------------------------- 8.1/8.1 MB 1.1 MB/s eta 0:00:00\n",
      "Installing collected packages: matplotlib\n",
      "Successfully installed matplotlib-3.10.3\n",
      "Note: you may need to restart the kernel to use updated packages.\n"
     ]
    },
    {
     "name": "stderr",
     "output_type": "stream",
     "text": [
      "WARNING: Ignoring invalid distribution ~atplotlib (C:\\Users\\nn081\\anaconda3\\Lib\\site-packages)\n",
      "WARNING: Ignoring invalid distribution ~atplotlib (C:\\Users\\nn081\\anaconda3\\Lib\\site-packages)\n",
      "WARNING: Ignoring invalid distribution ~atplotlib (C:\\Users\\nn081\\anaconda3\\Lib\\site-packages)\n"
     ]
    }
   ],
   "source": [
    "%pip uninstall matplotlib -y\n",
    "%pip install matplotlib"
   ]
  },
  {
   "cell_type": "code",
   "execution_count": 7,
   "id": "90831a87-d880-4a65-9593-0eb5a4087d61",
   "metadata": {},
   "outputs": [],
   "source": [
    "import os\n",
    "import csv\n",
    "from pathlib import Path\n",
    "from PyPDF2 import PdfReader"
   ]
  },
  {
   "cell_type": "code",
   "execution_count": 16,
   "id": "98716439-cd27-4a8a-8d26-5b2e1a9df44d",
   "metadata": {},
   "outputs": [
    {
     "name": "stdout",
     "output_type": "stream",
     "text": [
      "0 個のPDFファイルが見つかりました。\n"
     ]
    }
   ],
   "source": [
    "# 検索対象フォルダーのパス\n",
    "pdf_folder = Path(\"Some File Name\")  # 例: Path(\"data/pdfs\")\n",
    "\n",
    "# フォルダー内のPDFファイルをすべて取得\n",
    "pdf_files = list(pdf_folder.glob(\"*.pdf\"))\n",
    "\n",
    "print(f\"{len(pdf_files)} 個のPDFファイルが見つかりました。\")"
   ]
  },
  {
   "cell_type": "code",
   "execution_count": 12,
   "id": "edffaed1-3aae-4fc2-affc-4276ad6f2f06",
   "metadata": {},
   "outputs": [],
   "source": [
    "# 検索する文字列（例: \"重要\"）\n",
    "search_term = \"クリップボード\"\n",
    "\n",
    "# 結果を保存するリスト（ファイル名, 該当ページ）\n",
    "results = []\n",
    "\n",
    "for pdf_file in pdf_files:\n",
    "    try:\n",
    "        reader = PdfReader(str(pdf_file))\n",
    "        for i, page in enumerate(reader.pages):\n",
    "            text = page.extract_text()\n",
    "            if text and search_term in text:\n",
    "                results.append((pdf_file.name, i + 1))  # ページ番号は1始まりで記録\n",
    "    except Exception as e:\n",
    "        print(f\"{pdf_file.name} の読み込みでエラー: {e}\")\n"
   ]
  },
  {
   "cell_type": "code",
   "execution_count": 14,
   "id": "7070b247-b184-4c53-86b1-f8dc2943a263",
   "metadata": {},
   "outputs": [
    {
     "name": "stdout",
     "output_type": "stream",
     "text": [
      "検索結果を search_results.csv に保存しました。\n"
     ]
    }
   ],
   "source": [
    "output_csv = \"search_results.csv\"\n",
    "\n",
    "with open(output_csv, mode=\"w\", newline=\"\", encoding=\"utf-8\") as f:\n",
    "    writer = csv.writer(f)\n",
    "    writer.writerow([\"filename\", \"page_number\"])\n",
    "    writer.writerows(results)\n",
    "\n",
    "print(f\"検索結果を {output_csv} に保存しました。\")"
   ]
  },
  {
   "cell_type": "code",
   "execution_count": null,
   "id": "4c0d77f5-9eaa-4d69-b4af-395fbbe02293",
   "metadata": {},
   "outputs": [],
   "source": []
  }
 ],
 "metadata": {
  "kernelspec": {
   "display_name": "Python [conda env:base] *",
   "language": "python",
   "name": "conda-base-py"
  },
  "language_info": {
   "codemirror_mode": {
    "name": "ipython",
    "version": 3
   },
   "file_extension": ".py",
   "mimetype": "text/x-python",
   "name": "python",
   "nbconvert_exporter": "python",
   "pygments_lexer": "ipython3",
   "version": "3.12.7"
  }
 },
 "nbformat": 4,
 "nbformat_minor": 5
}
